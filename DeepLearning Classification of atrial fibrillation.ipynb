{
 "cells": [
  {
   "cell_type": "code",
   "execution_count": 1,
   "metadata": {
    "collapsed": false
   },
   "outputs": [
    {
     "name": "stdout",
     "output_type": "stream",
     "text": [
      "--2019-05-12 21:44:33--  https://github.com/fernandoandreotti/cinc-challenge2017/raw/master/deeplearn-approach/ResNet_30s_34lay_16conv.hdf5\n",
      "Resolving github.com... 13.229.188.59\n",
      "Connecting to github.com|13.229.188.59|:443... connected.\n",
      "HTTP request sent, awaiting response... 302 Found\n",
      "Location: https://raw.githubusercontent.com/fernandoandreotti/cinc-challenge2017/master/deeplearn-approach/ResNet_30s_34lay_16conv.hdf5 [following]\n",
      "--2019-05-12 21:44:34--  https://raw.githubusercontent.com/fernandoandreotti/cinc-challenge2017/master/deeplearn-approach/ResNet_30s_34lay_16conv.hdf5\n",
      "Resolving raw.githubusercontent.com... 151.101.0.133, 151.101.64.133, 151.101.128.133, ...\n",
      "Connecting to raw.githubusercontent.com|151.101.0.133|:443... connected.\n",
      "HTTP request sent, awaiting response... 200 OK\n",
      "Length: 10604536 (10M) [application/octet-stream]\n",
      "Saving to: ‘ResNet_30s_34lay_16conv.hdf5.1’\n",
      "\n",
      "ResNet_30s_34lay_16 100%[===================>]  10.11M   826KB/s    in 14s     \n",
      "\n",
      "2019-05-12 21:44:50 (749 KB/s) - ‘ResNet_30s_34lay_16conv.hdf5.1’ saved [10604536/10604536]\n",
      "\n"
     ]
    }
   ],
   "source": [
    "!wget https://github.com/fernandoandreotti/cinc-challenge2017/raw/master/deeplearn-approach/ResNet_30s_34lay_16conv.hdf5"
   ]
  },
  {
   "cell_type": "code",
   "execution_count": 2,
   "metadata": {
    "collapsed": false
   },
   "outputs": [
    {
     "name": "stderr",
     "output_type": "stream",
     "text": [
      "Using TensorFlow backend.\n"
     ]
    }
   ],
   "source": [
    "from random import randint\n",
    "import urllib.request\n",
    "import scipy.io\n",
    "from keras.models import load_model\n",
    "import numpy as np\n",
    "import pandas as pd"
   ]
  },
  {
   "cell_type": "markdown",
   "metadata": {},
   "source": [
    "### Load Model from hdfd\n",
    "\n",
    "The model was trained and I only reused back from here https://github.com/fernandoandreotti/cinc-challenge2017/tree/master/deeplearn-approach\n",
    "\n",
    "#### The classes\n",
    "* A = AF\n",
    "* N = Normal\n",
    "* O = Others\n",
    "* ~ = Noisy"
   ]
  },
  {
   "cell_type": "code",
   "execution_count": 3,
   "metadata": {
    "collapsed": false
   },
   "outputs": [
    {
     "name": "stdout",
     "output_type": "stream",
     "text": [
      "Loading model\n",
      "CPU times: user 21.4 s, sys: 365 ms, total: 21.8 s\n",
      "Wall time: 23.7 s\n"
     ]
    },
    {
     "name": "stderr",
     "output_type": "stream",
     "text": [
      "//anaconda/lib/python3.6/site-packages/keras/engine/saving.py:327: UserWarning: Error in loading the saved optimizer state. As a result, your model is starting with a freshly initialized optimizer.\n",
      "  warnings.warn('Error in loading the saved optimizer '\n"
     ]
    }
   ],
   "source": [
    "%%time\n",
    "# load from trained model\n",
    "print(\"Loading model\")    \n",
    "model = load_model('ResNet_30s_34lay_16conv.hdf5')\n",
    "classes = ['A', 'N', 'O','~']"
   ]
  },
  {
   "cell_type": "code",
   "execution_count": 4,
   "metadata": {
    "collapsed": false
   },
   "outputs": [
    {
     "name": "stdout",
     "output_type": "stream",
     "text": [
      "Downloading record A00906 ..\n"
     ]
    }
   ],
   "source": [
    "# randomly choose data from the physiobank\n",
    "record = \"A{:05d}\".format(randint(0, 999))\n",
    "urlfile = \"https://www.physionet.org/physiobank/database/challenge/2017/training/A00/{}.mat\".format(record)\n",
    "local_filename, headers = urllib.request.urlretrieve(urlfile)\n",
    "html = open(local_filename)\n",
    "print('Downloading record {} ..'.format(record))"
   ]
  },
  {
   "cell_type": "code",
   "execution_count": 5,
   "metadata": {
    "collapsed": true
   },
   "outputs": [],
   "source": [
    "def preprocess(data):\n",
    "    # Preprocessing data\n",
    "    maxlen = 9000 # the model expect (9000, 1) shape\n",
    "    print(\"Preprocessing recording ..\")    \n",
    "    X = np.zeros((1,maxlen))\n",
    "    data = np.nan_to_num(data) # removing NaNs and Infs\n",
    "    data = data[0:maxlen]\n",
    "    data = data - np.mean(data)\n",
    "    data = data/np.std(data)\n",
    "    X[0,:len(data)] = data.T # padding sequence\n",
    "    data = X\n",
    "    data = np.expand_dims(data, axis=2) # required by Keras\n",
    "    del X\n",
    "    return data"
   ]
  },
  {
   "cell_type": "code",
   "execution_count": 6,
   "metadata": {
    "collapsed": true
   },
   "outputs": [],
   "source": [
    "mat_data = scipy.io.loadmat(local_filename)\n",
    "data = mat_data['val']\n",
    "data = data.reshape(data.shape[1])"
   ]
  },
  {
   "cell_type": "code",
   "execution_count": 7,
   "metadata": {
    "collapsed": false
   },
   "outputs": [
    {
     "data": {
      "text/plain": [
       "(9000,)"
      ]
     },
     "execution_count": 7,
     "metadata": {},
     "output_type": "execute_result"
    }
   ],
   "source": [
    "data.shape"
   ]
  },
  {
   "cell_type": "code",
   "execution_count": 8,
   "metadata": {
    "collapsed": false
   },
   "outputs": [
    {
     "name": "stdout",
     "output_type": "stream",
     "text": [
      "Applying model ..\n",
      "Preprocessing recording ..\n",
      "Record A00906 classified as O with 66.5% certainty\n"
     ]
    }
   ],
   "source": [
    "print(\"Applying model ..\")   \n",
    "data = preprocess(data)\n",
    "prob = model.predict(data)\n",
    "ann = np.argmax(prob)\n",
    "print(\"Record {} classified as {} with {:3.1f}% certainty\".format(record,classes[ann],100*prob[0,ann]))"
   ]
  },
  {
   "cell_type": "markdown",
   "metadata": {},
   "source": [
    "### Let's try on our saved filtered ECG data"
   ]
  },
  {
   "cell_type": "code",
   "execution_count": 9,
   "metadata": {
    "collapsed": true
   },
   "outputs": [],
   "source": [
    "df = pd.read_csv(\"ecg_filtered.csv\")"
   ]
  },
  {
   "cell_type": "code",
   "execution_count": 10,
   "metadata": {
    "collapsed": false
   },
   "outputs": [
    {
     "data": {
      "text/html": [
       "<div>\n",
       "<style scoped>\n",
       "    .dataframe tbody tr th:only-of-type {\n",
       "        vertical-align: middle;\n",
       "    }\n",
       "\n",
       "    .dataframe tbody tr th {\n",
       "        vertical-align: top;\n",
       "    }\n",
       "\n",
       "    .dataframe thead th {\n",
       "        text-align: right;\n",
       "    }\n",
       "</style>\n",
       "<table border=\"1\" class=\"dataframe\">\n",
       "  <thead>\n",
       "    <tr style=\"text-align: right;\">\n",
       "      <th></th>\n",
       "      <th>ECG_Filtered</th>\n",
       "    </tr>\n",
       "  </thead>\n",
       "  <tbody>\n",
       "    <tr>\n",
       "      <th>0</th>\n",
       "      <td>18.326446</td>\n",
       "    </tr>\n",
       "    <tr>\n",
       "      <th>1</th>\n",
       "      <td>30.774347</td>\n",
       "    </tr>\n",
       "    <tr>\n",
       "      <th>2</th>\n",
       "      <td>42.439289</td>\n",
       "    </tr>\n",
       "    <tr>\n",
       "      <th>3</th>\n",
       "      <td>50.279598</td>\n",
       "    </tr>\n",
       "    <tr>\n",
       "      <th>4</th>\n",
       "      <td>52.229285</td>\n",
       "    </tr>\n",
       "  </tbody>\n",
       "</table>\n",
       "</div>"
      ],
      "text/plain": [
       "   ECG_Filtered\n",
       "0     18.326446\n",
       "1     30.774347\n",
       "2     42.439289\n",
       "3     50.279598\n",
       "4     52.229285"
      ]
     },
     "execution_count": 10,
     "metadata": {},
     "output_type": "execute_result"
    }
   ],
   "source": [
    "df.head()"
   ]
  },
  {
   "cell_type": "code",
   "execution_count": 11,
   "metadata": {
    "collapsed": true
   },
   "outputs": [],
   "source": [
    "data = df['ECG_Filtered'].values"
   ]
  },
  {
   "cell_type": "code",
   "execution_count": 12,
   "metadata": {
    "collapsed": false
   },
   "outputs": [
    {
     "data": {
      "text/plain": [
       "(52770,)"
      ]
     },
     "execution_count": 12,
     "metadata": {},
     "output_type": "execute_result"
    }
   ],
   "source": [
    "data.shape"
   ]
  },
  {
   "cell_type": "code",
   "execution_count": 13,
   "metadata": {
    "collapsed": false
   },
   "outputs": [
    {
     "name": "stdout",
     "output_type": "stream",
     "text": [
      "Applying model ..\n",
      "Preprocessing recording ..\n",
      "Record A00906 classified as ~ with 77.3% certainty\n"
     ]
    }
   ],
   "source": [
    "print(\"Applying model ..\")   \n",
    "data = preprocess(data)\n",
    "prob = model.predict(data)\n",
    "ann = np.argmax(prob)\n",
    "print(\"Record {} classified as {} with {:3.1f}% certainty\".format(record,classes[ann],100*prob[0,ann]))"
   ]
  },
  {
   "cell_type": "markdown",
   "metadata": {},
   "source": [
    "Well turns out my ECG readings classified as noisy"
   ]
  },
  {
   "cell_type": "code",
   "execution_count": null,
   "metadata": {
    "collapsed": true
   },
   "outputs": [],
   "source": []
  }
 ],
 "metadata": {
  "kernelspec": {
   "display_name": "Python 3",
   "language": "python",
   "name": "python3"
  },
  "language_info": {
   "codemirror_mode": {
    "name": "ipython",
    "version": 3
   },
   "file_extension": ".py",
   "mimetype": "text/x-python",
   "name": "python",
   "nbconvert_exporter": "python",
   "pygments_lexer": "ipython3",
   "version": "3.6.8"
  }
 },
 "nbformat": 4,
 "nbformat_minor": 2
}
